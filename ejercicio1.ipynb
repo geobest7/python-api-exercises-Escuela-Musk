{
 "cells": [
  {
   "cell_type": "markdown",
   "metadata": {},
   "source": [
    "###  Utilizando la biblioteca requests de Python, crea un programa que interactúe con la API JSONPlaceholder (https://jsonplaceholder.typicode.com) para realizar las siguientes operaciones HTTP: \n",
    "### 1.GET: Obtener una lista de todos los posts. \n",
    "### 2. POST: Crear un nuevo post con un título, cuerpo y ID de usuario proporcionados por el usuario. \n",
    "### 3. PUT: Actualizar un post existente con un nuevo título, cuerpo y ID de usuario proporcionados por el usuario. \n",
    "### 4. PATCH: Actualizar parcialmente un post existente cambiando solo su título. \n",
    "### 5. DELETE: Borrar un post existente. 5. Asegúrate de manejar las respuestas de la API de manera adecuada y de imprimir los resultados de cada operación para verificar su éxito o cualquier error que pueda surgir."
   ]
  },
  {
   "cell_type": "code",
   "execution_count": 3,
   "metadata": {},
   "outputs": [
    {
     "name": "stdout",
     "output_type": "stream",
     "text": [
      "Se obtuvieron 100 posts:\n",
      "ID: 1, Título: sunt aut facere repellat provident occaecati excepturi optio reprehenderit\n",
      "ID: 2, Título: qui est esse\n",
      "ID: 3, Título: ea molestias quasi exercitationem repellat qui ipsa sit aut\n",
      "ID: 4, Título: eum et est occaecati\n",
      "ID: 5, Título: nesciunt quas odio\n"
     ]
    }
   ],
   "source": [
    "# GET\n",
    "\n",
    "import requests\n",
    "\n",
    "URL = \"https://jsonplaceholder.typicode.com/posts\"\n",
    "\n",
    "response_get = requests.get(URL)\n",
    "\n",
    "if response_get.status_code == 200:\n",
    "    posts = response_get.json()\n",
    "    print(f'Se obtuvieron {len(posts)} posts:')\n",
    "    for post in posts[:5]:                                                        # imprimo solo los primeros 5\n",
    "        print(f'ID: {post['id']}, Título: {post['title']}')\n",
    "else:\n",
    "    print(f'Error al obtener posts. Codigo de estado: {response_get.status_code}')\n",
    "        "
   ]
  },
  {
   "cell_type": "code",
   "execution_count": 4,
   "metadata": {},
   "outputs": [
    {
     "name": "stdout",
     "output_type": "stream",
     "text": [
      "¡Post creado con exito!\n",
      "ID del usuario: 1234\n",
      "Título del post: ciao\n",
      "Cuerpo del post: ciauciau\n"
     ]
    }
   ],
   "source": [
    "# POST\n",
    "\n",
    "nuevo_post = {\n",
    "    \"title\": input('Introduce el título del post: '),\n",
    "    \"body\": input('Introduce el contenido del post: '),\n",
    "    \"userId\": int(input('Introduce el ID del usuario: '))\n",
    "}\n",
    "\n",
    "response_post = requests.post(URL, nuevo_post)\n",
    "\n",
    "if response_post.status_code == 201:\n",
    "    post_creado = response_post.json()\n",
    "    print('¡Post creado con exito!')\n",
    "    print(f'ID del usuario: {post_creado['userId']}')\n",
    "    print(f'Título del post: {post_creado['title']}')\n",
    "    print(f'Cuerpo del post: {post_creado['body']}')\n",
    "    \n",
    "else:\n",
    "    print(f'Error al crear el post. Código de estado: {response_post.status_code}')"
   ]
  },
  {
   "cell_type": "code",
   "execution_count": 5,
   "metadata": {},
   "outputs": [
    {
     "name": "stdout",
     "output_type": "stream",
     "text": [
      "¡Post actualizado con exito!\n",
      "ID del post: 23\n",
      "ID del usuario: 5678\n",
      "Título del post: newt\n",
      "Cuerpo del post: newc\n"
     ]
    }
   ],
   "source": [
    "# PUT\n",
    "\n",
    "post_id = int(input(\"Introduce el ID del post que deseas actualizar: \"))\n",
    "\n",
    "actualizacion = {\n",
    "     \"title\": input(\"Introduce el nuevo título del post: \"),\n",
    "    \"body\": input(\"Introduce el nuevo contenido del post: \"),\n",
    "    \"userId\": int(input(\"Introduce el nuevo ID del usuario: \"))\n",
    "}\n",
    "\n",
    "url_post = f\"{URL}/{post_id}\"\n",
    "\n",
    "response_put = requests.put(url_post, json=actualizacion)\n",
    "\n",
    "if response_put.status_code == 200:\n",
    "    post_actualizado = response_put.json()\n",
    "    print('¡Post actualizado con exito!')\n",
    "    print(f'ID del post: {post_id}')\n",
    "    print(f'ID del usuario: {post_actualizado['userId']}')\n",
    "    print(f'Título del post: {post_actualizado['title']}')\n",
    "    print(f'Cuerpo del post: {post_actualizado['body']}')\n",
    "\n",
    "else:\n",
    "    print(f'Error al actualizar el post. Código de estado: {response_put.status_code}')\n",
    "    "
   ]
  },
  {
   "cell_type": "code",
   "execution_count": 6,
   "metadata": {},
   "outputs": [
    {
     "name": "stdout",
     "output_type": "stream",
     "text": [
      "¡Post actualizado con exito!\n",
      "ID del post: 100\n",
      "Título del post: newtpatch\n"
     ]
    }
   ],
   "source": [
    "# PATCH\n",
    "\n",
    "post_id_titulo_actualizado = int(input(\"Introduce el ID del post que deseas actualizar: \"))\n",
    "\n",
    "url_get_post = f\"{URL}/{post_id_titulo_actualizado}\" \n",
    "response_g = requests.get(url_get_post)\n",
    "\n",
    "if response_g.status_code == 200:\n",
    "    \n",
    "    actualizacion_titulo = {\n",
    "        \"title\": input(\"Introduce el nuevo título del post: \")\n",
    "    }\n",
    "\n",
    "    url_patch = f\"{URL}/{post_id_titulo_actualizado}\"\n",
    "\n",
    "    response_patch = requests.patch(url_patch, json=actualizacion_titulo)\n",
    "\n",
    "\n",
    "    if response_patch.status_code == 200:\n",
    "        titulo_actualizado = response_patch.json()\n",
    "        print('¡Post actualizado con exito!')\n",
    "        print(f'ID del post: {post_id_titulo_actualizado}')\n",
    "        print(f'Título del post: {titulo_actualizado['title']}')\n",
    "        \n",
    "\n",
    "    else:\n",
    "        print(f'Error al actualizar el post. Código de estado: {response_patch.status_code}')\n",
    "else:\n",
    "    print(\"No existe ningún post con el ID insertado\")\n"
   ]
  },
  {
   "cell_type": "code",
   "execution_count": 8,
   "metadata": {},
   "outputs": [
    {
     "name": "stdout",
     "output_type": "stream",
     "text": [
      "No existe ningún post con el ID insertado\n"
     ]
    }
   ],
   "source": [
    "# DELETE\n",
    "\n",
    "post_id_a_borrar = int(input(\"Introduce el ID del post que deseas borrar: \"))\n",
    "\n",
    "url_get_post_borrar = f\"{URL}/{post_id_a_borrar}\" \n",
    "response_g_borrar = requests.get(url_get_post_borrar)\n",
    "\n",
    "if response_g_borrar.status_code == 200:\n",
    "    \n",
    "    response_delete = requests.delete(url_get_post_borrar)\n",
    "\n",
    "\n",
    "    if response_delete.status_code == 200:\n",
    "        print('¡Post eliminado con exito!')\n",
    "        print(f'ID del post eliminado: {post_id_a_borrar}')\n",
    "    else:\n",
    "        print(f'Error al borrar el post. Código de estado: {response_delete.status_code}')\n",
    "else:\n",
    "    print(\"No existe ningún post con el ID insertado\")\n",
    "\n"
   ]
  }
 ],
 "metadata": {
  "kernelspec": {
   "display_name": "Python 3",
   "language": "python",
   "name": "python3"
  },
  "language_info": {
   "codemirror_mode": {
    "name": "ipython",
    "version": 3
   },
   "file_extension": ".py",
   "mimetype": "text/x-python",
   "name": "python",
   "nbconvert_exporter": "python",
   "pygments_lexer": "ipython3",
   "version": "3.13.0"
  }
 },
 "nbformat": 4,
 "nbformat_minor": 2
}
